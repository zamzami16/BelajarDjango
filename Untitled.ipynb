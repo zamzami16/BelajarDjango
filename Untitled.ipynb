{
 "cells": [
  {
   "cell_type": "code",
   "execution_count": 4,
   "id": "ea9687ef-c11d-4a33-9182-273ed01c8fa4",
   "metadata": {},
   "outputs": [
    {
     "name": "stdin",
     "output_type": "stream",
     "text": [
      " cd ..\n"
     ]
    },
    {
     "name": "stdout",
     "output_type": "stream",
     "text": [
      "C:\\Users\\yusuf\\OneDrive\n"
     ]
    },
    {
     "name": "stdin",
     "output_type": "stream",
     "text": [
      " cd ..\n"
     ]
    },
    {
     "name": "stdout",
     "output_type": "stream",
     "text": [
      "C:\\Users\\yusuf\n"
     ]
    },
    {
     "name": "stdin",
     "output_type": "stream",
     "text": [
      " ls\n"
     ]
    },
    {
     "name": "stdout",
     "output_type": "stream",
     "text": [
      "['AppsGDD', 'Backupdl', 'BelajarDjango', 'desktop.ini', 'Discord.lnk', 'Figma.lnk', 'iseng', 'JaxCore.lnk', 'password-manager', 'Physics', 'processed', 'WA.lnk', 'zamzBot']\n"
     ]
    },
    {
     "name": "stdin",
     "output_type": "stream",
     "text": [
      " pwd\n"
     ]
    },
    {
     "name": "stdout",
     "output_type": "stream",
     "text": [
      "C:\\Users\\yusuf\n"
     ]
    },
    {
     "name": "stdin",
     "output_type": "stream",
     "text": [
      " cd OneDrive\n"
     ]
    },
    {
     "name": "stdout",
     "output_type": "stream",
     "text": [
      "C:\\Users\\yusuf\\OneDrive\n"
     ]
    },
    {
     "name": "stdin",
     "output_type": "stream",
     "text": [
      " ls\n"
     ]
    },
    {
     "name": "stdout",
     "output_type": "stream",
     "text": [
      "['AppsGDD', 'Backupdl', 'BelajarDjango', 'desktop.ini', 'Discord.lnk', 'Figma.lnk', 'iseng', 'JaxCore.lnk', 'password-manager', 'Physics', 'processed', 'WA.lnk', 'zamzBot']\n"
     ]
    },
    {
     "name": "stdin",
     "output_type": "stream",
     "text": [
      " cd BelajarDjango\n"
     ]
    },
    {
     "ename": "FileNotFoundError",
     "evalue": "[WinError 2] The system cannot find the file specified: 'C:\\\\Users\\\\yusuf\\\\OneDrive\\\\BelajarDjango'",
     "output_type": "error",
     "traceback": [
      "\u001b[1;31m---------------------------------------------------------------------------\u001b[0m",
      "\u001b[1;31mFileNotFoundError\u001b[0m                         Traceback (most recent call last)",
      "Cell \u001b[1;32mIn [4], line 42\u001b[0m\n\u001b[0;32m     40\u001b[0m \u001b[38;5;28;01melif\u001b[39;00m cmd \u001b[38;5;241m==\u001b[39m \u001b[38;5;124m\"\u001b[39m\u001b[38;5;124mcd\u001b[39m\u001b[38;5;124m\"\u001b[39m:  \u001b[38;5;66;03m# DONE\u001b[39;00m\n\u001b[0;32m     41\u001b[0m     file_name \u001b[38;5;241m=\u001b[39m dirName\u001b[38;5;241m.\u001b[39msplit(\u001b[38;5;124m\"\u001b[39m\u001b[38;5;124m \u001b[39m\u001b[38;5;124m\"\u001b[39m)[\u001b[38;5;241m1\u001b[39m]\n\u001b[1;32m---> 42\u001b[0m     cd(file_name)\n\u001b[0;32m     43\u001b[0m     \u001b[38;5;28mprint\u001b[39m(os\u001b[38;5;241m.\u001b[39mgetcwd())\n\u001b[0;32m     44\u001b[0m \u001b[38;5;28;01melif\u001b[39;00m cmd \u001b[38;5;241m==\u001b[39m \u001b[38;5;124m\"\u001b[39m\u001b[38;5;124mtouch\u001b[39m\u001b[38;5;124m\"\u001b[39m:  \u001b[38;5;66;03m# DONE\u001b[39;00m\n",
      "Cell \u001b[1;32mIn [4], line 30\u001b[0m, in \u001b[0;36mcd\u001b[1;34m(file_name)\u001b[0m\n\u001b[0;32m     29\u001b[0m \u001b[38;5;28;01mdef\u001b[39;00m \u001b[38;5;21mcd\u001b[39m(file_name):\n\u001b[1;32m---> 30\u001b[0m     \u001b[43mos\u001b[49m\u001b[38;5;241;43m.\u001b[39;49m\u001b[43mchdir\u001b[49m\u001b[43m(\u001b[49m\u001b[43mjoin\u001b[49m\u001b[43m(\u001b[49m\u001b[43mos\u001b[49m\u001b[38;5;241;43m.\u001b[39;49m\u001b[43mgetcwd\u001b[49m\u001b[43m(\u001b[49m\u001b[43m)\u001b[49m\u001b[43m,\u001b[49m\u001b[43m \u001b[49m\u001b[43mfile_name\u001b[49m\u001b[43m)\u001b[49m\u001b[43m)\u001b[49m\n",
      "\u001b[1;31mFileNotFoundError\u001b[0m: [WinError 2] The system cannot find the file specified: 'C:\\\\Users\\\\yusuf\\\\OneDrive\\\\BelajarDjango'"
     ]
    }
   ],
   "source": [
    "import os\n",
    "import pathlib\n",
    "from contextlib import contextmanager\n",
    "from os.path import join\n",
    "\n",
    "path = os.getcwd()\n",
    "\n",
    "\n",
    "# DONE\n",
    "def ls():\n",
    "    os.listdir(path)\n",
    "    print(os.listdir(path))\n",
    "\n",
    "\n",
    "def pwd():\n",
    "    print(os.getcwd())\n",
    "\n",
    "\n",
    "def touch(file_name):\n",
    "    fp = open(join(path, file_name), 'a')\n",
    "    fp.close()\n",
    "\n",
    "\n",
    "def rm(file_name):\n",
    "    file = pathlib.Path(join(path, file_name))\n",
    "    file.unlink()\n",
    "\n",
    "\n",
    "def cd(file_name):\n",
    "    os.chdir(join(os.getcwd(), file_name))\n",
    "\n",
    "while True < 100:\n",
    "    dirName = input()\n",
    "    cmd = dirName.split(\" \")[0]\n",
    "\n",
    "    if cmd == \"ls\":  # DONE\n",
    "        ls()\n",
    "    elif cmd == \"pwd\":  # DONE\n",
    "        pwd()\n",
    "    elif cmd == \"cd\":  # DONE\n",
    "        file_name = dirName.split(\" \")[1]\n",
    "        cd(file_name)\n",
    "        print(os.getcwd())\n",
    "    elif cmd == \"touch\":  # DONE\n",
    "        file_name = dirName.split(\" \")[1]\n",
    "        touch(file_name)\n",
    "    elif cmd == \"rm\":  # DONE\n",
    "        file_name = dirName.split(\" \")[1]\n",
    "        rm(file_name)\n",
    "   \t# PROBLEM IS IN THIS \"cd\" FUNCTIONALITY - WHENEVER I CD FROM TERMINAL, \n",
    "    # IT CHANGE DIR TO FOLDER BUT THEN RETURN TO PREVIOUS FOLDER AFTER EXCUTIOM\n",
    "    elif cmd == 'cd':  \n",
    "        file_name = dirName.split(\" \")[1]\n",
    "        cd(file_name)\n",
    "        print(pwd(file_name))\n",
    "    else:\n",
    "        print(\"Command not found!\")\n"
   ]
  },
  {
   "cell_type": "code",
   "execution_count": null,
   "id": "bd5b5ddf-e8a5-47ae-9a8b-082f69a2f534",
   "metadata": {},
   "outputs": [],
   "source": []
  }
 ],
 "metadata": {
  "kernelspec": {
   "display_name": "Python 3 (ipykernel)",
   "language": "python",
   "name": "python3"
  },
  "language_info": {
   "codemirror_mode": {
    "name": "ipython",
    "version": 3
   },
   "file_extension": ".py",
   "mimetype": "text/x-python",
   "name": "python",
   "nbconvert_exporter": "python",
   "pygments_lexer": "ipython3",
   "version": "3.9.5"
  }
 },
 "nbformat": 4,
 "nbformat_minor": 5
}
